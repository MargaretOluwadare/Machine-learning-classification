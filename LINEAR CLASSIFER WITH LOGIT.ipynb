{
 "cells": [
  {
   "cell_type": "code",
   "execution_count": 1,
   "id": "734f2984",
   "metadata": {},
   "outputs": [],
   "source": [
    "import numpy as np\n",
    "import pandas as pd\n",
    "from matplotlib import pyplot as plt\n",
    "\n",
    "np.random.seed(234)"
   ]
  },
  {
   "cell_type": "code",
   "execution_count": 2,
   "id": "2f3f788b",
   "metadata": {},
   "outputs": [
    {
     "name": "stderr",
     "output_type": "stream",
     "text": [
      "C:\\Anaconda\\lib\\site-packages\\IPython\\core\\interactiveshell.py:3165: DtypeWarning: Columns (6) have mixed types.Specify dtype option on import or set low_memory=False.\n",
      "  has_raised = await self.run_ast_nodes(code_ast.body, cell_name,\n"
     ]
    }
   ],
   "source": [
    "## Load data set\n",
    "df = pd.read_csv('C:/Users/IZZYLYF/OneDrive/hamoyeGIT/Machine Learning Classification - Managing the Quality Metric of Global Ecological Footprint/footprint-nfa-2019-edition/NFA 2019 public_data.csv')"
   ]
  },
  {
   "cell_type": "markdown",
   "id": "afe63dbe",
   "metadata": {},
   "source": [
    "#DATA EXPLORATION AND PREPROCESSING"
   ]
  },
  {
   "cell_type": "code",
   "execution_count": 3,
   "id": "8cb52ad3",
   "metadata": {},
   "outputs": [
    {
     "name": "stdout",
     "output_type": "stream",
     "text": [
      "(72186, 12)\n",
      "<bound method NDFrame.describe of        country  year  country_code        record     crop_land  grazing_land  \\\n",
      "0      Armenia  1992             1    AreaPerCap  1.402924e-01  1.995463e-01   \n",
      "1      Armenia  1992             1     AreaTotHA  4.830000e+05  6.870000e+05   \n",
      "2      Armenia  1992             1  BiocapPerCap  1.598044e-01  1.352610e-01   \n",
      "3      Armenia  1992             1  BiocapTotGHA  5.501762e+05  4.656780e+05   \n",
      "4      Armenia  1992             1  EFConsPerCap  3.875102e-01  1.894622e-01   \n",
      "...        ...   ...           ...           ...           ...           ...   \n",
      "72181    World  2016          5001  BiocapTotGHA  3.984702e+09  1.504757e+09   \n",
      "72182    World  2016          5001  EFConsPerCap  5.336445e-01  1.402092e-01   \n",
      "72183    World  2016          5001  EFConsTotGHA  3.984702e+09  1.046937e+09   \n",
      "72184    World  2016          5001  EFProdPerCap  5.336445e-01  1.402092e-01   \n",
      "72185    World  2016          5001  EFProdTotGHA  3.984702e+09  1.046937e+09   \n",
      "\n",
      "        forest_land  fishing_ground  built_up_land        carbon  \\\n",
      "0       0.097188051    3.688847e-02   2.931995e-02  0.000000e+00   \n",
      "1            334600    1.270000e+05   1.009430e+05  0.000000e+00   \n",
      "2       0.084003213    1.374213e-02   3.339780e-02  0.000000e+00   \n",
      "3       289207.1078    4.731155e+04   1.149823e+05  0.000000e+00   \n",
      "4          1.26E-06    4.164833e-03   3.339780e-02  1.114093e+00   \n",
      "...             ...             ...            ...           ...   \n",
      "72181  5111762779.0    1.095445e+09   4.726163e+08  0.000000e+00   \n",
      "72182      0.273495    8.974253e-02   6.329435e-02  1.646235e+00   \n",
      "72183  2042179333.0    6.701039e+08   4.726163e+08  1.229237e+10   \n",
      "72184      0.273495    8.974253e-02   6.329435e-02  1.646235e+00   \n",
      "72185  2042179333.0    6.701039e+08   4.726163e+08  1.229237e+10   \n",
      "\n",
      "              total QScore  \n",
      "0      5.032351e-01     3A  \n",
      "1      1.732543e+06     3A  \n",
      "2      4.262086e-01     3A  \n",
      "3      1.467355e+06     3A  \n",
      "4      1.728629e+00     3A  \n",
      "...             ...    ...  \n",
      "72181  1.216928e+10     3A  \n",
      "72182  2.746619e+00     3A  \n",
      "72183  2.050891e+10     3A  \n",
      "72184  2.746619e+00     3A  \n",
      "72185  2.050891e+10     3A  \n",
      "\n",
      "[72186 rows x 12 columns]>\n",
      "['QScore', 'built_up_land', 'carbon', 'country', 'country_code', 'crop_land', 'fishing_ground', 'forest_land', 'grazing_land', 'record', 'total', 'year']\n",
      "country             193\n",
      "year                 56\n",
      "country_code        193\n",
      "record                8\n",
      "crop_land         36869\n",
      "grazing_land      40629\n",
      "forest_land       49103\n",
      "fishing_ground    45244\n",
      "built_up_land     24774\n",
      "carbon            25493\n",
      "total             71690\n",
      "QScore                5\n",
      "dtype: int64\n"
     ]
    },
    {
     "data": {
      "text/html": [
       "<div>\n",
       "<style scoped>\n",
       "    .dataframe tbody tr th:only-of-type {\n",
       "        vertical-align: middle;\n",
       "    }\n",
       "\n",
       "    .dataframe tbody tr th {\n",
       "        vertical-align: top;\n",
       "    }\n",
       "\n",
       "    .dataframe thead th {\n",
       "        text-align: right;\n",
       "    }\n",
       "</style>\n",
       "<table border=\"1\" class=\"dataframe\">\n",
       "  <thead>\n",
       "    <tr style=\"text-align: right;\">\n",
       "      <th></th>\n",
       "      <th>country</th>\n",
       "      <th>year</th>\n",
       "      <th>country_code</th>\n",
       "      <th>record</th>\n",
       "      <th>crop_land</th>\n",
       "      <th>grazing_land</th>\n",
       "      <th>forest_land</th>\n",
       "      <th>fishing_ground</th>\n",
       "      <th>built_up_land</th>\n",
       "      <th>carbon</th>\n",
       "      <th>total</th>\n",
       "      <th>QScore</th>\n",
       "    </tr>\n",
       "  </thead>\n",
       "  <tbody>\n",
       "    <tr>\n",
       "      <th>0</th>\n",
       "      <td>Armenia</td>\n",
       "      <td>1992</td>\n",
       "      <td>1</td>\n",
       "      <td>AreaPerCap</td>\n",
       "      <td>0.140292</td>\n",
       "      <td>0.199546</td>\n",
       "      <td>0.097188051</td>\n",
       "      <td>0.036888</td>\n",
       "      <td>0.029320</td>\n",
       "      <td>0.000000</td>\n",
       "      <td>5.032351e-01</td>\n",
       "      <td>3A</td>\n",
       "    </tr>\n",
       "    <tr>\n",
       "      <th>1</th>\n",
       "      <td>Armenia</td>\n",
       "      <td>1992</td>\n",
       "      <td>1</td>\n",
       "      <td>AreaTotHA</td>\n",
       "      <td>483000.000000</td>\n",
       "      <td>687000.000000</td>\n",
       "      <td>334600</td>\n",
       "      <td>127000.000000</td>\n",
       "      <td>100943.000800</td>\n",
       "      <td>0.000000</td>\n",
       "      <td>1.732543e+06</td>\n",
       "      <td>3A</td>\n",
       "    </tr>\n",
       "    <tr>\n",
       "      <th>2</th>\n",
       "      <td>Armenia</td>\n",
       "      <td>1992</td>\n",
       "      <td>1</td>\n",
       "      <td>BiocapPerCap</td>\n",
       "      <td>0.159804</td>\n",
       "      <td>0.135261</td>\n",
       "      <td>0.084003213</td>\n",
       "      <td>0.013742</td>\n",
       "      <td>0.033398</td>\n",
       "      <td>0.000000</td>\n",
       "      <td>4.262086e-01</td>\n",
       "      <td>3A</td>\n",
       "    </tr>\n",
       "    <tr>\n",
       "      <th>3</th>\n",
       "      <td>Armenia</td>\n",
       "      <td>1992</td>\n",
       "      <td>1</td>\n",
       "      <td>BiocapTotGHA</td>\n",
       "      <td>550176.242700</td>\n",
       "      <td>465677.972200</td>\n",
       "      <td>289207.1078</td>\n",
       "      <td>47311.551720</td>\n",
       "      <td>114982.279300</td>\n",
       "      <td>0.000000</td>\n",
       "      <td>1.467355e+06</td>\n",
       "      <td>3A</td>\n",
       "    </tr>\n",
       "    <tr>\n",
       "      <th>4</th>\n",
       "      <td>Armenia</td>\n",
       "      <td>1992</td>\n",
       "      <td>1</td>\n",
       "      <td>EFConsPerCap</td>\n",
       "      <td>0.387510</td>\n",
       "      <td>0.189462</td>\n",
       "      <td>1.26E-06</td>\n",
       "      <td>0.004165</td>\n",
       "      <td>0.033398</td>\n",
       "      <td>1.114093</td>\n",
       "      <td>1.728629e+00</td>\n",
       "      <td>3A</td>\n",
       "    </tr>\n",
       "  </tbody>\n",
       "</table>\n",
       "</div>"
      ],
      "text/plain": [
       "   country  year  country_code        record      crop_land   grazing_land  \\\n",
       "0  Armenia  1992             1    AreaPerCap       0.140292       0.199546   \n",
       "1  Armenia  1992             1     AreaTotHA  483000.000000  687000.000000   \n",
       "2  Armenia  1992             1  BiocapPerCap       0.159804       0.135261   \n",
       "3  Armenia  1992             1  BiocapTotGHA  550176.242700  465677.972200   \n",
       "4  Armenia  1992             1  EFConsPerCap       0.387510       0.189462   \n",
       "\n",
       "   forest_land  fishing_ground  built_up_land    carbon         total QScore  \n",
       "0  0.097188051        0.036888       0.029320  0.000000  5.032351e-01     3A  \n",
       "1       334600   127000.000000  100943.000800  0.000000  1.732543e+06     3A  \n",
       "2  0.084003213        0.013742       0.033398  0.000000  4.262086e-01     3A  \n",
       "3  289207.1078    47311.551720  114982.279300  0.000000  1.467355e+06     3A  \n",
       "4     1.26E-06        0.004165       0.033398  1.114093  1.728629e+00     3A  "
      ]
     },
     "execution_count": 3,
     "metadata": {},
     "output_type": "execute_result"
    }
   ],
   "source": [
    "print(df.shape)\n",
    "print (df.describe)\n",
    "print(sorted(df))\n",
    "print(df.nunique())   \n",
    "df.head()"
   ]
  },
  {
   "cell_type": "code",
   "execution_count": 5,
   "id": "8d81ebd1",
   "metadata": {},
   "outputs": [
    {
     "name": "stdout",
     "output_type": "stream",
     "text": [
      "<class 'pandas.core.frame.DataFrame'>\n",
      "RangeIndex: 72186 entries, 0 to 72185\n",
      "Data columns (total 12 columns):\n",
      " #   Column          Non-Null Count  Dtype  \n",
      "---  ------          --------------  -----  \n",
      " 0   country         72186 non-null  object \n",
      " 1   year            72186 non-null  int64  \n",
      " 2   country_code    72186 non-null  int64  \n",
      " 3   record          72186 non-null  object \n",
      " 4   crop_land       51714 non-null  float64\n",
      " 5   grazing_land    51714 non-null  float64\n",
      " 6   forest_land     51714 non-null  object \n",
      " 7   fishing_ground  51713 non-null  float64\n",
      " 8   built_up_land   51713 non-null  float64\n",
      " 9   carbon          51713 non-null  float64\n",
      " 10  total           72177 non-null  float64\n",
      " 11  QScore          72185 non-null  object \n",
      "dtypes: float64(6), int64(2), object(4)\n",
      "memory usage: 6.6+ MB\n",
      "None\n"
     ]
    }
   ],
   "source": [
    "#drop un-named columns\n",
    "#df.drop('Unnamed: 0', axis = 1, inplace = True)\n",
    "\n",
    "\n",
    "#determine the data types\n",
    "print(df.info())"
   ]
  },
  {
   "cell_type": "code",
   "execution_count": 6,
   "id": "343dc93f",
   "metadata": {},
   "outputs": [
    {
     "name": "stdout",
     "output_type": "stream",
     "text": [
      " \n",
      "Count total NaN at each column in a DataFrame : \n",
      "\n",
      " country               0\n",
      "year                  0\n",
      "country_code          0\n",
      "record                0\n",
      "crop_land         20472\n",
      "grazing_land      20472\n",
      "forest_land       20472\n",
      "fishing_ground    20473\n",
      "built_up_land     20473\n",
      "carbon            20473\n",
      "total                 9\n",
      "QScore                1\n",
      "dtype: int64\n"
     ]
    }
   ],
   "source": [
    "#to determine the missing entries\n",
    "df.isnull()\n",
    "\n",
    "# Count total NaN at each column in a DataFrame\n",
    "print(\" \\nCount total NaN at each column in a DataFrame : \\n\\n\",\n",
    "      df.isnull().sum())"
   ]
  },
  {
   "cell_type": "code",
   "execution_count": 7,
   "id": "45259f44",
   "metadata": {},
   "outputs": [
    {
     "data": {
      "text/plain": [
       "country               0\n",
       "year                  0\n",
       "country_code          0\n",
       "record                0\n",
       "crop_land         20472\n",
       "grazing_land      20472\n",
       "forest_land       20472\n",
       "fishing_ground    20473\n",
       "built_up_land     20473\n",
       "carbon            20473\n",
       "total                 9\n",
       "QScore                1\n",
       "dtype: int64"
      ]
     },
     "execution_count": 7,
     "metadata": {},
     "output_type": "execute_result"
    }
   ],
   "source": [
    "#check distribution of target variable\n",
    "df['QScore'].value_counts()\n",
    "df.isna().sum()"
   ]
  },
  {
   "cell_type": "code",
   "execution_count": 9,
   "id": "10ddc55b",
   "metadata": {},
   "outputs": [
    {
     "data": {
      "text/plain": [
       "country           0\n",
       "year              0\n",
       "country_code      0\n",
       "record            0\n",
       "crop_land         0\n",
       "grazing_land      0\n",
       "forest_land       0\n",
       "fishing_ground    0\n",
       "built_up_land     0\n",
       "carbon            0\n",
       "total             0\n",
       "QScore            0\n",
       "dtype: int64"
      ]
     },
     "execution_count": 9,
     "metadata": {},
     "output_type": "execute_result"
    }
   ],
   "source": [
    "#droping the rows with missing values.\n",
    "df.dropna(inplace = True)\n",
    "df.isna().sum()"
   ]
  },
  {
   "cell_type": "code",
   "execution_count": 10,
   "id": "74ac5fc5",
   "metadata": {},
   "outputs": [
    {
     "name": "stdout",
     "output_type": "stream",
     "text": [
      "(51713, 12)\n"
     ]
    }
   ],
   "source": [
    "print(df.shape)"
   ]
  },
  {
   "cell_type": "markdown",
   "id": "b2bc90f3",
   "metadata": {},
   "source": [
    "#An obvious change in our target variable after removing the missing values is that there are only three classes left #and from the distribution of the 3 classes, we can see that there is an obvious imbalance between the classes. #There are methods that can be applied to handle this imbalance such as oversampling and undersampling.\n",
    "#Oversampling involves increasing the number of instances in the class with fewer instances while undersampling #involves reducing the data points in the class with more instances.\n",
    "#For now, we will convert this to a binary classification problem by combining class '2A' and '1A'."
   ]
  },
  {
   "cell_type": "code",
   "execution_count": 11,
   "id": "f11e0ae9",
   "metadata": {},
   "outputs": [],
   "source": [
    "#reset the dataframe index\n",
    "df = df.reset_index(drop = True)"
   ]
  },
  {
   "cell_type": "code",
   "execution_count": 12,
   "id": "7e3a8282",
   "metadata": {},
   "outputs": [
    {
     "data": {
      "text/plain": [
       "3A    51473\n",
       "2A      240\n",
       "Name: QScore, dtype: int64"
      ]
     },
     "execution_count": 12,
     "metadata": {},
     "output_type": "execute_result"
    }
   ],
   "source": [
    "#For now, we will convert this to a binary classification problem by combining class '2A' and '1A'.\n",
    "df['QScore'] = df['QScore'].replace(['1A'], '2A')\n",
    "df.QScore.value_counts()\n",
    "#prints"
   ]
  },
  {
   "cell_type": "code",
   "execution_count": 13,
   "id": "c676e162",
   "metadata": {},
   "outputs": [],
   "source": [
    "# Target variable seperation and samples selection\n",
    "df2A = df[df.QScore=='2A']\n",
    "df3A = df[df.QScore=='3A'].sample(350)\n",
    "newdf = df2A.append(df3A)"
   ]
  },
  {
   "cell_type": "code",
   "execution_count": 14,
   "id": "d2248349",
   "metadata": {},
   "outputs": [
    {
     "name": "stdout",
     "output_type": "stream",
     "text": [
      "(590, 12)\n"
     ]
    },
    {
     "data": {
      "text/plain": [
       "3A    350\n",
       "2A    240\n",
       "Name: QScore, dtype: int64"
      ]
     },
     "execution_count": 14,
     "metadata": {},
     "output_type": "execute_result"
    }
   ],
   "source": [
    "#to reshuffle the dataset for randomness\n",
    "import sklearn.utils\n",
    "ddf = sklearn.utils.shuffle(newdf)\n",
    "ddf = newdf.reset_index(drop=True)\n",
    "print(ddf.shape)\n",
    "ddf.QScore.value_counts()\n",
    "#prints"
   ]
  },
  {
   "cell_type": "code",
   "execution_count": 16,
   "id": "9b0bcb7d",
   "metadata": {},
   "outputs": [
    {
     "data": {
      "text/plain": [
       "0      0\n",
       "1      1\n",
       "2      2\n",
       "3      3\n",
       "4      4\n",
       "      ..\n",
       "585    6\n",
       "586    0\n",
       "587    6\n",
       "588    5\n",
       "589    7\n",
       "Name: record, Length: 590, dtype: int64"
      ]
     },
     "execution_count": 16,
     "metadata": {},
     "output_type": "execute_result"
    }
   ],
   "source": [
    "#One of the feature is categorical, so we need to encode it ahead \n",
    "from sklearn.preprocessing import LabelEncoder\n",
    "encoder = LabelEncoder()\n",
    "ddf.record = encoder.fit_transform(ddf.record)\n",
    "\n",
    "#let's preview the encoded feature\n",
    "ddf.record"
   ]
  },
  {
   "cell_type": "code",
   "execution_count": 17,
   "id": "94770f9c",
   "metadata": {},
   "outputs": [],
   "source": [
    "# from the above, we will be dropping country code, country and year because they are ambiguous to what we want to predict\n",
    "#and also we will encode the record feature\n",
    "\n",
    "newddf = df.drop(columns=['country_code', 'country', 'year'])\n",
    "X = newddf.drop(columns='QScore')\n",
    "y = newddf['QScore']"
   ]
  },
  {
   "cell_type": "code",
   "execution_count": 24,
   "id": "e22f180f",
   "metadata": {},
   "outputs": [
    {
     "name": "stdout",
     "output_type": "stream",
     "text": [
      "['QScore', 'built_up_land', 'carbon', 'crop_land', 'fishing_ground', 'forest_land', 'grazing_land', 'record', 'total']\n"
     ]
    }
   ],
   "source": [
    "print(sorted(newddf))"
   ]
  },
  {
   "cell_type": "markdown",
   "id": "79a3b34a",
   "metadata": {},
   "source": [
    "#VISUALIZATION"
   ]
  },
  {
   "cell_type": "code",
   "execution_count": null,
   "id": "9cd6f60f",
   "metadata": {},
   "outputs": [],
   "source": [
    "#%matplotlib inline\n",
    "#pd.crosstab(newddf.QScore,newddf.built_up_land).plot(kind='bar')\n",
    "#plt.title('QScore of built upland')\n",
    "#plt.xlabel('QScore')\n",
    "#plt.ylabel('built_up_land')\n",
    "#plt.savefig('QScore_buL')"
   ]
  },
  {
   "cell_type": "code",
   "execution_count": 27,
   "id": "0f3b947a",
   "metadata": {},
   "outputs": [
    {
     "data": {
      "image/png": "[encoded data removed]",
      "text/plain": [
       "<Figure size 432x288 with 1 Axes>"
      ]
     },
     "metadata": {
      "needs_background": "light"
     },
     "output_type": "display_data"
    }
   ],
   "source": [
    "table=pd.crosstab(newddf.QScore,newddf.record)\n",
    "table.div(table.sum(1).astype(float), axis=0).plot(kind='bar', stacked=True)\n",
    "plt.title('Stacked Bar Chart of QScore vs record')\n",
    "plt.xlabel('QScore')\n",
    "plt.ylabel('Record')\n",
    "plt.savefig('QScore_vs_record')"
   ]
  },
  {
   "cell_type": "code",
   "execution_count": null,
   "id": "b86e53be",
   "metadata": {},
   "outputs": [],
   "source": []
  },
  {
   "cell_type": "code",
   "execution_count": 18,
   "id": "b7e2d956",
   "metadata": {},
   "outputs": [
    {
     "data": {
      "text/plain": [
       "3A    36022\n",
       "2A      177\n",
       "Name: QScore, dtype: int64"
      ]
     },
     "execution_count": 18,
     "metadata": {},
     "output_type": "execute_result"
    }
   ],
   "source": [
    "#split the data into training and testing sets\n",
    "from sklearn.model_selection import train_test_split\n",
    "x_train, x_test, y_train, y_test = train_test_split(X, y, test_size=0.3, random_state=0)\n",
    "y_train.value_counts()\n",
    "#prints"
   ]
  },
  {
   "cell_type": "code",
   "execution_count": 19,
   "id": "81a2d260",
   "metadata": {},
   "outputs": [
    {
     "name": "stderr",
     "output_type": "stream",
     "text": [
      "C:\\Anaconda\\lib\\site-packages\\pandas\\core\\generic.py:5494: SettingWithCopyWarning: \n",
      "A value is trying to be set on a copy of a slice from a DataFrame.\n",
      "Try using .loc[row_indexer,col_indexer] = value instead\n",
      "\n",
      "See the caveats in the documentation: https://pandas.pydata.org/pandas-docs/stable/user_guide/indexing.html#returning-a-view-versus-a-copy\n",
      "  self[name] = value\n"
     ]
    }
   ],
   "source": [
    "#There is still an imbalance in the class distribution. For this, we use SMOTE only on the training data to handle this.\n",
    "#encode categorical variable\n",
    "from sklearn.preprocessing import LabelEncoder\n",
    "encoder = LabelEncoder()\n",
    "x_train.record = encoder.fit_transform(x_train.record)\n",
    "x_test.record = encoder.transform(x_test.record)\n"
   ]
  },
  {
   "cell_type": "code",
   "execution_count": null,
   "id": "59357b72",
   "metadata": {},
   "outputs": [],
   "source": [
    "#!pip install imblearn"
   ]
  },
  {
   "cell_type": "code",
   "execution_count": 20,
   "id": "286be10e",
   "metadata": {},
   "outputs": [],
   "source": [
    "import imblearn\n",
    "from imblearn.over_sampling import SMOTE\n",
    "smote = SMOTE(random_state=1)\n",
    "x_train_balanced, y_balanced = smote.fit_resample(x_train, y_train)"
   ]
  },
  {
   "cell_type": "code",
   "execution_count": 21,
   "id": "ca0afddf",
   "metadata": {},
   "outputs": [],
   "source": [
    "#min max scaler\n",
    "from sklearn.preprocessing import MinMaxScaler\n",
    "scaler = MinMaxScaler()\n",
    "normalised_train_df = scaler.fit_transform(x_train_balanced.drop(columns=['record']))\n",
    "normalised_train_df = pd.DataFrame(normalised_train_df, columns=x_train_balanced.drop(columns=['record']).columns)\n",
    "normalised_train_df['record'] = x_train_balanced['record']"
   ]
  },
  {
   "cell_type": "code",
   "execution_count": 22,
   "id": "7766ec9f",
   "metadata": {},
   "outputs": [],
   "source": [
    "x_test = x_test.reset_index(drop=True)\n",
    "normalised_test_df = scaler.transform(x_test.drop(columns=['record']))\n",
    "normalised_test_df = pd.DataFrame(normalised_test_df, columns=x_test.drop(columns=['record']).columns)\n",
    "normalised_test_df['record'] = x_test['record']\n"
   ]
  },
  {
   "cell_type": "code",
   "execution_count": 28,
   "id": "ea2e6a4a",
   "metadata": {},
   "outputs": [],
   "source": [
    "#Logistic Regression\n",
    "from sklearn.linear_model import LogisticRegression\n",
    "log_reg = LogisticRegression()\n",
    "log_reg.fit(normalised_train_df, y_balanced)\n",
    "#returns\n",
    "# instantiate the model (using the default parameters)\n",
    "linlogreg = LogisticRegression(C=1.0, class_weight=None, dual=False, fit_intercept=True,\n",
    "                   intercept_scaling=1, l1_ratio=None, max_iter=100,\n",
    "                   multi_class='auto', n_jobs=None, penalty='l2',\n",
    "                   random_state=None, solver='lbfgs', tol=0.0001, verbose=0,\n",
    "                   warm_start=False)"
   ]
  },
  {
   "cell_type": "code",
   "execution_count": 32,
   "id": "9286a3a6",
   "metadata": {},
   "outputs": [
    {
     "name": "stdout",
     "output_type": "stream",
     "text": [
      "LogisticRegression()\n",
      "['3A' '3A' '3A' ... '3A' '3A' '3A']\n"
     ]
    }
   ],
   "source": [
    "# fit the model with data\n",
    "print(linlogreg.fit(x_train,y_train))\n",
    "\n",
    "y_pred=linlogreg.predict(x_test)\n",
    "\n",
    "print(y_pred)"
   ]
  },
  {
   "cell_type": "code",
   "execution_count": null,
   "id": "3207e871",
   "metadata": {},
   "outputs": [],
   "source": []
  },
  {
   "cell_type": "code",
   "execution_count": null,
   "id": "e18c9341",
   "metadata": {},
   "outputs": [],
   "source": []
  },
  {
   "cell_type": "code",
   "execution_count": null,
   "id": "210581f4",
   "metadata": {},
   "outputs": [],
   "source": []
  },
  {
   "cell_type": "code",
   "execution_count": null,
   "id": "14684810",
   "metadata": {},
   "outputs": [],
   "source": []
  },
  {
   "cell_type": "code",
   "execution_count": null,
   "id": "5d7bb365",
   "metadata": {},
   "outputs": [],
   "source": []
  },
  {
   "cell_type": "code",
   "execution_count": null,
   "id": "983a6b44",
   "metadata": {},
   "outputs": [],
   "source": []
  },
  {
   "cell_type": "code",
   "execution_count": null,
   "id": "983967e2",
   "metadata": {},
   "outputs": [],
   "source": []
  },
  {
   "cell_type": "code",
   "execution_count": null,
   "id": "1b127fdf",
   "metadata": {},
   "outputs": [],
   "source": []
  },
  {
   "cell_type": "code",
   "execution_count": null,
   "id": "2cc060c8",
   "metadata": {},
   "outputs": [],
   "source": []
  },
  {
   "cell_type": "code",
   "execution_count": null,
   "id": "fc92c920",
   "metadata": {},
   "outputs": [],
   "source": []
  },
  {
   "cell_type": "code",
   "execution_count": null,
   "id": "e627a29b",
   "metadata": {},
   "outputs": [],
   "source": []
  },
  {
   "cell_type": "code",
   "execution_count": null,
   "id": "82ff69cd",
   "metadata": {},
   "outputs": [],
   "source": []
  },
  {
   "cell_type": "code",
   "execution_count": null,
   "id": "eadcdb35",
   "metadata": {},
   "outputs": [],
   "source": []
  },
  {
   "cell_type": "code",
   "execution_count": null,
   "id": "478dcdeb",
   "metadata": {},
   "outputs": [],
   "source": []
  },
  {
   "cell_type": "code",
   "execution_count": null,
   "id": "8840e9f1",
   "metadata": {},
   "outputs": [],
   "source": []
  },
  {
   "cell_type": "code",
   "execution_count": null,
   "id": "330bf28b",
   "metadata": {},
   "outputs": [],
   "source": []
  },
  {
   "cell_type": "code",
   "execution_count": null,
   "id": "e988c2fb",
   "metadata": {},
   "outputs": [],
   "source": []
  },
  {
   "cell_type": "code",
   "execution_count": null,
   "id": "7a983d98",
   "metadata": {},
   "outputs": [],
   "source": []
  },
  {
   "cell_type": "code",
   "execution_count": null,
   "id": "258dec92",
   "metadata": {},
   "outputs": [],
   "source": []
  },
  {
   "cell_type": "code",
   "execution_count": null,
   "id": "4679185e",
   "metadata": {},
   "outputs": [],
   "source": []
  },
  {
   "cell_type": "code",
   "execution_count": null,
   "id": "8ced23d7",
   "metadata": {},
   "outputs": [],
   "source": []
  },
  {
   "cell_type": "code",
   "execution_count": null,
   "id": "ab88ce02",
   "metadata": {},
   "outputs": [],
   "source": []
  },
  {
   "cell_type": "code",
   "execution_count": null,
   "id": "ac322731",
   "metadata": {},
   "outputs": [],
   "source": []
  }
 ],
 "metadata": {
  "kernelspec": {
   "display_name": "Python 3",
   "language": "python",
   "name": "python3"
  },
  "language_info": {
   "codemirror_mode": {
    "name": "ipython",
    "version": 3
   },
   "file_extension": ".py",
   "mimetype": "text/x-python",
   "name": "python",
   "nbconvert_exporter": "python",
   "pygments_lexer": "ipython3",
   "version": "3.8.8"
  }
 },
 "nbformat": 4,
 "nbformat_minor": 5
}
